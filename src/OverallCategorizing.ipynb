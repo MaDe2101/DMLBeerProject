{
 "cells": [
  {
   "cell_type": "code",
   "execution_count": 2,
   "id": "ce09de07",
   "metadata": {},
   "outputs": [],
   "source": [
    "import pandas as pd\n",
    "import numpy as np"
   ]
  },
  {
   "cell_type": "code",
   "execution_count": 3,
   "id": "cdfae614",
   "metadata": {},
   "outputs": [
    {
     "name": "stdout",
     "output_type": "stream",
     "text": [
      "Minimaler Wert in 'overall': -1.5720524052128302\n",
      "Maximaler Wert in 'overall': 1.7350264231677837\n"
     ]
    }
   ],
   "source": [
    "# Datei einlesen\n",
    "#datei_pfad = './../data/result/mergedData_4_7.csv'  # Pfad zur CSV-Datei\n",
    "datei_pfad = './../data/result/createdSampleData.csv'  # Pfad zur CSV-Datei\n",
    "df = pd.read_csv(datei_pfad)\n",
    "\n",
    "# Überprüfen, ob die Spalte \"overall\" existiert\n",
    "if 'overall' in df.columns:\n",
    "    # Minimale und maximale Werte aus der Spalte \"overall\" ermitteln\n",
    "    min_wert = df['overall'].min()\n",
    "    max_wert = df['overall'].max()\n",
    "    \n",
    "    print(f\"Minimaler Wert in 'overall': {min_wert}\")\n",
    "    print(f\"Maximaler Wert in 'overall': {max_wert}\")\n",
    "else:\n",
    "    print(\"Die Spalte 'overall' existiert nicht im Datensatz.\")\n"
   ]
  },
  {
   "cell_type": "code",
   "execution_count": 4,
   "id": "93a96066",
   "metadata": {},
   "outputs": [
    {
     "name": "stdout",
     "output_type": "stream",
     "text": [
      "    overall categorized_overall\n",
      "0  0.381426          Satisfying\n",
      "1 -0.978987          Not enough\n",
      "2 -0.643432          Sufficient\n",
      "3 -0.241309          Satisfying\n",
      "4  0.116726          Satisfying\n"
     ]
    }
   ],
   "source": [
    "# Überprüfen, ob die Spalte \"overall\" existiert\n",
    "if 'overall' in df.columns:\n",
    "    # Definieren der Grenzen für die Kategorisierung\n",
    "    grenzen = np.linspace(min_wert, max_wert, num=6)  # 5 Intervalle, also 6 Grenzwerte\n",
    "    \n",
    "    # Labels für die Kategorisierung\n",
    "    # Not enough = 5\n",
    "    # Sufficient = 4\n",
    "    # Satisfiying = 3\n",
    "    # Good = 2\n",
    "    # Very Good = 1\n",
    "    labels = [\"Not enough\", \"Sufficient\", \"Satisfying\", \"Good\", \"Very good\"]\n",
    "    \n",
    "    # Erstellen der neuen Spalte 'categorized_overall'\n",
    "    df['categorized_overall'] = pd.cut(df['overall'], bins=grenzen, labels=labels, include_lowest=True)\n",
    "    \n",
    "    print(df[['overall', 'categorized_overall']].head())  # Ausgabe der ersten paar Zeilen zur Überprüfung\n",
    "else:\n",
    "    print(\"Die Spalte 'overall' existiert nicht im Datensatz.\")"
   ]
  },
  {
   "cell_type": "code",
   "execution_count": 6,
   "id": "9c4c7fed",
   "metadata": {},
   "outputs": [],
   "source": [
    "# Write CSV\n",
    "#df.to_csv('./../data/result/ValuesWithCategorizedOverall.csv', index=False)\n",
    "df.to_csv('./../data/result/SampleValuesWithCategorizedOverall.csv', index=False)"
   ]
  },
  {
   "cell_type": "code",
   "execution_count": 8,
   "id": "bc231e0d",
   "metadata": {},
   "outputs": [
    {
     "name": "stdout",
     "output_type": "stream",
     "text": [
      "   beer        beer_id  tasting_category_fine  acetaldehyde       CS2  \\\n",
      "0    10  5410228202929                      0     -0.641741 -2.146292   \n",
      "1    86  5410783031019                      0     -0.174824 -2.146292   \n",
      "2     2  5410228142003                      0      0.511067 -2.146292   \n",
      "3    83       54055520                      0      0.249793 -2.146292   \n",
      "4    40  5410228141181                      0     -1.902829 -0.756987   \n",
      "\n",
      "        DES       DMS  ethyl_2.methyl_butyrate  ethyl_acetate  \\\n",
      "0 -1.905267  0.046211                 -3.19552      -0.599350   \n",
      "1 -0.257098  0.347241                 -3.19552      -0.507254   \n",
      "2 -1.905267  0.898604                 -3.19552      -0.134514   \n",
      "3 -1.905267  0.782126                 -3.19552      -0.233874   \n",
      "4 -1.347270  0.553356                 -3.19552       0.207751   \n",
      "\n",
      "   ethyl_decanoate  ...    manool  ethyl.octadecanoate  ethyl.pentanoate  \\\n",
      "0        -1.975309  ...  5.721204             4.438951          0.014728   \n",
      "1        -1.755970  ...  5.810501             4.247826          0.023167   \n",
      "2        -1.893639  ...  5.585529             3.598293          0.017571   \n",
      "3        -2.086981  ...  5.204583             4.498781          0.016959   \n",
      "4        -1.713095  ...  6.515499             4.789220          0.117921   \n",
      "\n",
      "   X2.ethyl.3.methylpyrazine  esters_sum  aroma_hops_sum  acids_sum  \\\n",
      "0                   0.054353   -0.532634        3.696586   0.244085   \n",
      "1                   0.001400   -0.465401        1.219563  -0.152156   \n",
      "2                   0.000699   -0.409346        1.148974  -0.161504   \n",
      "3                   0.001101   -0.420080        1.416847  -0.056092   \n",
      "4                   0.000492   -0.144457        0.672328  -1.204001   \n",
      "\n",
      "   sulfur_sum   overall  categorized_overall  \n",
      "0    0.166286 -0.467852           Satisfying  \n",
      "1    0.098931 -0.994806           Sufficient  \n",
      "2   -0.022943 -1.528544           Not enough  \n",
      "3    0.068372 -0.934138           Sufficient  \n",
      "4    0.639462 -1.735965           Not enough  \n",
      "\n",
      "[5 rows x 236 columns]\n"
     ]
    }
   ],
   "source": [
    "# check first 5\n",
    "#ValuesWithCategorizedOverall = pd.read_csv('./../data/result/ValuesWithCategorizedOverall.csv')\n",
    "#print(ValuesWithCategorizedOverall.head())"
   ]
  },
  {
   "cell_type": "code",
   "execution_count": 7,
   "id": "f43cf8c7",
   "metadata": {},
   "outputs": [],
   "source": [
    "def map_categories_to_integers(input_csv, output_csv, column_name):\n",
    "    # CSV-Datei einlesen\n",
    "    df = pd.read_csv(input_csv)\n",
    "    \n",
    "    # Kategorien in Integer-Werte umwandeln\n",
    "    df[column_name] = df[column_name].astype('category').cat.codes\n",
    "    \n",
    "    # Ergebnis in eine neue CSV-Datei schreiben\n",
    "    df.to_csv(output_csv, index=False)\n",
    "    print(f\"Die Kategorien wurden erfolgreich auf Integer-Werte abgebildet und in {output_csv} gespeichert.\")\n"
   ]
  },
  {
   "cell_type": "code",
   "execution_count": 8,
   "id": "4ea07fb7",
   "metadata": {},
   "outputs": [
    {
     "name": "stdout",
     "output_type": "stream",
     "text": [
      "Die Kategorien wurden erfolgreich auf Integer-Werte abgebildet und in ./../data/result/SampleValuesWithCategorizedOverallInteger.csv gespeichert.\n"
     ]
    }
   ],
   "source": [
    "map_categories_to_integers('./../data/result/SampleValuesWithCategorizedOverall.csv', './../data/result/SampleValuesWithCategorizedOverallInteger.csv', 'categorized_overall')"
   ]
  },
  {
   "cell_type": "code",
   "execution_count": null,
   "id": "3bb7a43f-eae3-4783-80ab-5eca2f12dfc1",
   "metadata": {},
   "outputs": [],
   "source": []
  }
 ],
 "metadata": {
  "kernelspec": {
   "display_name": "Python 3 (ipykernel)",
   "language": "python",
   "name": "python3"
  },
  "language_info": {
   "codemirror_mode": {
    "name": "ipython",
    "version": 3
   },
   "file_extension": ".py",
   "mimetype": "text/x-python",
   "name": "python",
   "nbconvert_exporter": "python",
   "pygments_lexer": "ipython3",
   "version": "3.11.7"
  }
 },
 "nbformat": 4,
 "nbformat_minor": 5
}
