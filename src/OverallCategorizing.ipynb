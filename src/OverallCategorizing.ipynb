{
 "cells": [
  {
   "cell_type": "code",
   "execution_count": 8,
   "id": "ce09de07",
   "metadata": {},
   "outputs": [],
   "source": [
    "import pandas as pd\n",
    "import numpy as np"
   ]
  },
  {
   "cell_type": "code",
   "execution_count": 10,
   "id": "cdfae614",
   "metadata": {},
   "outputs": [
    {
     "name": "stdout",
     "output_type": "stream",
     "text": [
      "Minimaler Wert in 'overall': -1.610065769748222\n",
      "Maximaler Wert in 'overall': 2.143512783380201\n"
     ]
    }
   ],
   "source": [
    "# Datei einlesen\n",
    "#datei_pfad = './../data/result/mergedData_4_7.csv'  # Pfad zur CSV-Datei\n",
    "#datei_pfad = './../data/result/createdSampleData.csv'  # Pfad zur CSV-Datei\n",
    "#datei_pfad = './../data/result/combinedData.csv'  # Pfad zur CSV-Datei\n",
    "datei_pfad = './../data/result/createdSampleData.csv'  # Pfad zur CSV-Datei\n",
    "\n",
    "df = pd.read_csv(datei_pfad)\n",
    "# Ersetze 'Spalte1' und 'Spalte2' mit den tatsächlichen Namen der Spalten, die du löschen möchtest\n",
    "#df = df.drop(['beer_id', 'beer'], axis=1)\n",
    "\n",
    "# Überprüfen, ob die Spalte \"overall\" existiert\n",
    "if 'overall' in df.columns:\n",
    "    # Minimale und maximale Werte aus der Spalte \"overall\" ermitteln\n",
    "    min_wert = df['overall'].min()\n",
    "    max_wert = df['overall'].max()\n",
    "    \n",
    "    print(f\"Minimaler Wert in 'overall': {min_wert}\")\n",
    "    print(f\"Maximaler Wert in 'overall': {max_wert}\")\n",
    "else:\n",
    "    print(\"Die Spalte 'overall' existiert nicht im Datensatz.\")\n"
   ]
  },
  {
   "cell_type": "code",
   "execution_count": 11,
   "id": "93a96066",
   "metadata": {},
   "outputs": [
    {
     "name": "stdout",
     "output_type": "stream",
     "text": [
      "    overall categorized_overall\n",
      "0  0.133051          Satisfying\n",
      "1 -0.377269          Sufficient\n",
      "2  0.599161          Satisfying\n",
      "3  0.726822                Good\n",
      "4  0.586832          Satisfying\n"
     ]
    }
   ],
   "source": [
    "# Überprüfen, ob die Spalte \"overall\" existiert\n",
    "if 'overall' in df.columns:\n",
    "    # Definieren der Grenzen für die Kategorisierung\n",
    "    grenzen = np.linspace(min_wert, max_wert, num=6)  # 5 Intervalle, also 6 Grenzwerte\n",
    "    \n",
    "    # Labels für die Kategorisierung\n",
    "    # Not enough = 5\n",
    "    # Sufficient = 4\n",
    "    # Satisfiying = 3\n",
    "    # Good = 2\n",
    "    # Very Good = 1\n",
    "    labels = [\"Not enough\", \"Sufficient\", \"Satisfying\", \"Good\", \"Very good\"]\n",
    "    \n",
    "    # Erstellen der neuen Spalte 'categorized_overall'\n",
    "    df['categorized_overall'] = pd.cut(df['overall'], bins=grenzen, labels=labels, include_lowest=True)\n",
    "    \n",
    "    print(df[['overall', 'categorized_overall']].head())  # Ausgabe der ersten paar Zeilen zur Überprüfung\n",
    "else:\n",
    "    print(\"Die Spalte 'overall' existiert nicht im Datensatz.\")"
   ]
  },
  {
   "cell_type": "code",
   "execution_count": 12,
   "id": "9c4c7fed",
   "metadata": {},
   "outputs": [],
   "source": [
    "# Write CSV\n",
    "#df.to_csv('./../data/result/ValuesWithCategorizedOverall.csv', index=False)\n",
    "df.to_csv('./../data/result/createdSampleDataOverallCategory.csv', index=False)"
   ]
  },
  {
   "cell_type": "code",
   "execution_count": 13,
   "id": "bc231e0d",
   "metadata": {},
   "outputs": [],
   "source": [
    "# check first 5\n",
    "#ValuesWithCategorizedOverall = pd.read_csv('./../data/result/ValuesWithCategorizedOverall.csv')\n",
    "#print(ValuesWithCategorizedOverall.head())"
   ]
  },
  {
   "cell_type": "code",
   "execution_count": 14,
   "id": "f43cf8c7",
   "metadata": {},
   "outputs": [],
   "source": [
    "def map_categories_to_integers(input_csv, output_csv, column_name):\n",
    "    # CSV-Datei einlesen\n",
    "    df = pd.read_csv(input_csv)\n",
    "    \n",
    "    # Kategorien in Integer-Werte umwandeln\n",
    "    df[column_name] = df[column_name].astype('category').cat.codes\n",
    "    \n",
    "    # Ergebnis in eine neue CSV-Datei schreiben\n",
    "    df.to_csv(output_csv, index=False)\n",
    "    print(f\"Die Kategorien wurden erfolgreich auf Integer-Werte abgebildet und in {output_csv} gespeichert.\")\n"
   ]
  },
  {
   "cell_type": "code",
   "execution_count": 15,
   "id": "4ea07fb7",
   "metadata": {},
   "outputs": [
    {
     "name": "stdout",
     "output_type": "stream",
     "text": [
      "Die Kategorien wurden erfolgreich auf Integer-Werte abgebildet und in ./../data/result/createdSampleDataOverallCategoryInteger.csv gespeichert.\n"
     ]
    }
   ],
   "source": [
    "map_categories_to_integers('./../data/result/createdSampleDataOverallCategory.csv', './../data/result/createdSampleDataOverallCategoryInteger.csv', 'categorized_overall')"
   ]
  },
  {
   "cell_type": "code",
   "execution_count": null,
   "id": "3bb7a43f-eae3-4783-80ab-5eca2f12dfc1",
   "metadata": {},
   "outputs": [],
   "source": []
  }
 ],
 "metadata": {
  "kernelspec": {
   "display_name": "Python 3 (ipykernel)",
   "language": "python",
   "name": "python3"
  },
  "language_info": {
   "codemirror_mode": {
    "name": "ipython",
    "version": 3
   },
   "file_extension": ".py",
   "mimetype": "text/x-python",
   "name": "python",
   "nbconvert_exporter": "python",
   "pygments_lexer": "ipython3",
   "version": "3.11.5"
  }
 },
 "nbformat": 4,
 "nbformat_minor": 5
}
