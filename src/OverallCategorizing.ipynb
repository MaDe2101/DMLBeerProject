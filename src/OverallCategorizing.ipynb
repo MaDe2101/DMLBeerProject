{
 "cells": [
  {
   "cell_type": "code",
   "execution_count": 4,
   "id": "7a19e663",
   "metadata": {},
   "outputs": [],
   "source": [
    "import pandas as pd\n",
    "import numpy as np"
   ]
  },
  {
   "cell_type": "code",
   "execution_count": 6,
   "id": "f291fb6a",
   "metadata": {},
   "outputs": [
    {
     "name": "stdout",
     "output_type": "stream",
     "text": [
      "Minimaler Wert in 'overall': -1.735964657\n",
      "Maximaler Wert in 'overall': 1.34564954\n"
     ]
    }
   ],
   "source": [
    "# Datei einlesen\n",
    "datei_pfad = './../data/result/mergedData2OverallAtTheEnd.csv'  # Pfad zur CSV-Datei\n",
    "df = pd.read_csv(datei_pfad)\n",
    "\n",
    "# Überprüfen, ob die Spalte \"overall\" existiert\n",
    "if 'overall' in df.columns:\n",
    "    # Minimale und maximale Werte aus der Spalte \"overall\" ermitteln\n",
    "    min_wert = df['overall'].min()\n",
    "    max_wert = df['overall'].max()\n",
    "    \n",
    "    print(f\"Minimaler Wert in 'overall': {min_wert}\")\n",
    "    print(f\"Maximaler Wert in 'overall': {max_wert}\")\n",
    "else:\n",
    "    print(\"Die Spalte 'overall' existiert nicht im Datensatz.\")\n"
   ]
  },
  {
   "cell_type": "code",
   "execution_count": 7,
   "id": "1f1e80f3",
   "metadata": {},
   "outputs": [
    {
     "name": "stdout",
     "output_type": "stream",
     "text": [
      "    overall categorized_overall\n",
      "0 -0.467852          Satisfying\n",
      "1 -0.994806          Sufficient\n",
      "2 -1.528544          Not enough\n",
      "3 -0.934138          Sufficient\n",
      "4 -1.735965          Not enough\n"
     ]
    }
   ],
   "source": [
    "# Überprüfen, ob die Spalte \"overall\" existiert\n",
    "if 'overall' in df.columns:\n",
    "    # Definieren der Grenzen für die Kategorisierung\n",
    "    grenzen = np.linspace(min_wert, max_wert, num=6)  # 5 Intervalle, also 6 Grenzwerte\n",
    "    \n",
    "    # Labels für die Kategorisierung\n",
    "    # Not enough = 5\n",
    "    # Sufficient = 4\n",
    "    # Satisfiying = 3\n",
    "    # Good = 2\n",
    "    # Very Good = 1\n",
    "    labels = [\"Not enough\", \"Sufficient\", \"Satisfying\", \"Good\", \"Very good\"]\n",
    "    \n",
    "    # Erstellen der neuen Spalte 'categorized_overall'\n",
    "    df['categorized_overall'] = pd.cut(df['overall'], bins=grenzen, labels=labels, include_lowest=True)\n",
    "    \n",
    "    print(df[['overall', 'categorized_overall']].head())  # Ausgabe der ersten paar Zeilen zur Überprüfung\n",
    "else:\n",
    "    print(\"Die Spalte 'overall' existiert nicht im Datensatz.\")"
   ]
  },
  {
   "cell_type": "code",
   "execution_count": 8,
   "id": "f8117085",
   "metadata": {},
   "outputs": [],
   "source": [
    "# Write CSV\n",
    "df.to_csv('./../data/result/ValuesWithCategorizedOverall.csv', index=False)"
   ]
  },
  {
   "cell_type": "code",
   "execution_count": 9,
   "id": "a7aafe97",
   "metadata": {},
   "outputs": [
    {
     "name": "stdout",
     "output_type": "stream",
     "text": [
      "   beer        beer_id  tasting_category_fine  acetaldehyde       CS2  \\\n",
      "0    10  5410228202929                      0     -0.641741 -2.146292   \n",
      "1    86  5410783031019                      0     -0.174824 -2.146292   \n",
      "2     2  5410228142003                      0      0.511067 -2.146292   \n",
      "3    83       54055520                      0      0.249793 -2.146292   \n",
      "4    40  5410228141181                      0     -1.902829 -0.756987   \n",
      "\n",
      "        DES       DMS  ethyl_2.methyl_butyrate  ethyl_acetate  \\\n",
      "0 -1.905267  0.046211                 -3.19552      -0.599350   \n",
      "1 -0.257098  0.347241                 -3.19552      -0.507254   \n",
      "2 -1.905267  0.898604                 -3.19552      -0.134514   \n",
      "3 -1.905267  0.782126                 -3.19552      -0.233874   \n",
      "4 -1.347270  0.553356                 -3.19552       0.207751   \n",
      "\n",
      "   ethyl_decanoate  ...  taste_solvent  taste_sour  taste_stale  taste_sweet  \\\n",
      "0        -1.975309  ...      -0.343435   -0.548848    -0.571463     1.478909   \n",
      "1        -1.755970  ...      -0.343435   -0.673420    -0.571463     1.020469   \n",
      "2        -1.893639  ...      -0.343435   -0.595404    -0.571463     0.700821   \n",
      "3        -2.086981  ...      -0.343435   -0.754565    -0.571463    -0.945087   \n",
      "4        -1.713095  ...      -0.343435   -0.617429    -0.571463    -0.124719   \n",
      "\n",
      "   taste_toast  taste_tropical  taste_woody  na_count   overall  \\\n",
      "0    -0.698196       -0.540469     -0.72104         5 -0.467852   \n",
      "1    -0.698196       -0.540469     -0.72104         3 -0.994806   \n",
      "2     1.772489       -0.540469     -0.72104         3 -1.528544   \n",
      "3    -0.698196       -0.540469     -0.72104         3 -0.934138   \n",
      "4    -0.698196       -0.540469     -0.72104         3 -1.735965   \n",
      "\n",
      "   categorized_overall  \n",
      "0           Satisfying  \n",
      "1           Sufficient  \n",
      "2           Not enough  \n",
      "3           Sufficient  \n",
      "4           Not enough  \n",
      "\n",
      "[5 rows x 472 columns]\n"
     ]
    }
   ],
   "source": [
    "# check first 5\n",
    "ValuesWithCategorizedOverall = pd.read_csv('./../data/result/ValuesWithCategorizedOverall.csv')\n",
    "print(ValuesWithCategorizedOverall.head())"
   ]
  }
 ],
 "metadata": {
  "kernelspec": {
   "display_name": "Python 3 (ipykernel)",
   "language": "python",
   "name": "python3"
  },
  "language_info": {
   "codemirror_mode": {
    "name": "ipython",
    "version": 3
   },
   "file_extension": ".py",
   "mimetype": "text/x-python",
   "name": "python",
   "nbconvert_exporter": "python",
   "pygments_lexer": "ipython3",
   "version": "3.11.5"
  }
 },
 "nbformat": 4,
 "nbformat_minor": 5
}
