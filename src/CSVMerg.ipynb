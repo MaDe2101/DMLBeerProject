{
 "cells": [
  {
   "cell_type": "code",
   "execution_count": 18,
   "id": "7348e658",
   "metadata": {},
   "outputs": [
    {
     "name": "stdout",
     "output_type": "stream",
     "text": [
      "CSV files merged successfully into 'merged_output.csv'\n"
     ]
    }
   ],
   "source": [
    "import pandas as pd\n",
    "\n",
    "# File names\n",
    "file1 = './Bier/41467_2024_46346_MOESM4_ESM.csv'\n",
    "file2 = './Bier/41467_2024_46346_MOESM7_ESM.csv'\n",
    "file3 = './Bier/41467_2024_46346_MOESM10_ESM.csv'\n",
    "\n",
    "# Read CSV files into DataFrames\n",
    "df1 = pd.read_csv(file1)\n",
    "df2 = pd.read_csv(file2)\n",
    "df3 = pd.read_csv(file3)\n",
    "\n",
    "\n",
    "\n",
    "# Merge DataFrames on 'beer' and 'beer_id' columns\n",
    "merged_df = df1.merge(df2, on=['beer', 'beer_id'], how='left')\n",
    "merged_df = merged_df.merge(df3, on=['beer', 'beer_id'], how='left')\n",
    "\n",
    "# Fill NaN values with empty strings or a placeholder if desired\n",
    "merged_df = merged_df.fillna(0)\n",
    "\n",
    "# Write the merged DataFrame to a new CSV file\n",
    "merged_df.to_csv('merged_output_V7.csv', index=False)\n",
    "\n",
    "print(\"CSV files merged successfully into 'merged_output.csv'\")"
   ]
  },
  {
   "cell_type": "code",
   "execution_count": 13,
   "id": "16252042",
   "metadata": {},
   "outputs": [
    {
     "name": "stdout",
     "output_type": "stream",
     "text": [
      "Empty DataFrame\n",
      "Columns: [beer, source]\n",
      "Index: []\n"
     ]
    }
   ],
   "source": [
    "def find_non_matching_values(file1, file2, file3):\n",
    "    # Read CSV files into DataFrames\n",
    "    df1 = pd.read_csv(file1)\n",
    "    df2 = pd.read_csv(file2)\n",
    "    df3 = pd.read_csv(file3)\n",
    "\n",
    "    # Get the first column name (assuming it's the same for all files)\n",
    "    first_column_name = df1.columns[0]\n",
    "\n",
    "    # Get unique values from the first column of each DataFrame\n",
    "    unique_values_1 = set(df1[first_column_name])\n",
    "    unique_values_2 = set(df2[first_column_name])\n",
    "    unique_values_3 = set(df3[first_column_name])\n",
    "\n",
    "    # Find non-matching values\n",
    "    non_matching_1 = unique_values_1 - (unique_values_2 | unique_values_3)\n",
    "    non_matching_2 = unique_values_2 - (unique_values_1 | unique_values_3)\n",
    "    non_matching_3 = unique_values_3 - (unique_values_1 | unique_values_2)\n",
    "\n",
    "    # Create DataFrames for non-matching values\n",
    "    non_matching_df1 = pd.DataFrame(non_matching_1, columns=[first_column_name])\n",
    "    non_matching_df2 = pd.DataFrame(non_matching_2, columns=[first_column_name])\n",
    "    non_matching_df3 = pd.DataFrame(non_matching_3, columns=[first_column_name])\n",
    "\n",
    "    # Combine the non-matching values into a single DataFrame with a source column\n",
    "    non_matching_df1['source'] = 'file1'\n",
    "    non_matching_df2['source'] = 'file2'\n",
    "    non_matching_df3['source'] = 'file3'\n",
    "\n",
    "    combined_non_matching_df = pd.concat([non_matching_df1, non_matching_df2, non_matching_df3], ignore_index=True)\n",
    "\n",
    "    return combined_non_matching_df\n",
    "\n",
    "# Example usage:\n",
    "file1 = './Bier/41467_2024_46346_MOESM4_ESM.csv'\n",
    "file2 = './Bier/41467_2024_46346_MOESM7_ESM.csv'\n",
    "file3 = './Bier/41467_2024_46346_MOESM10_ESM.csv'\n",
    "\n",
    "non_matching_df = find_non_matching_values(file1, file2, file3)\n",
    "print(non_matching_df)"
   ]
  }
 ],
 "metadata": {
  "kernelspec": {
   "display_name": "Python 3 (ipykernel)",
   "language": "python",
   "name": "python3"
  }
 },
 "nbformat": 4,
 "nbformat_minor": 5
}
